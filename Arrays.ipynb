{
  "nbformat": 4,
  "nbformat_minor": 0,
  "metadata": {
    "colab": {
      "provenance": [],
      "authorship_tag": "ABX9TyMEkD3h50I3U4Q4XWUCN/hS",
      "include_colab_link": true
    },
    "kernelspec": {
      "name": "python3",
      "display_name": "Python 3"
    },
    "language_info": {
      "name": "python"
    }
  },
  "cells": [
    {
      "cell_type": "markdown",
      "metadata": {
        "id": "view-in-github",
        "colab_type": "text"
      },
      "source": [
        "<a href=\"https://colab.research.google.com/github/CovarLawrence/OOP-58003/blob/main/Arrays.ipynb\" target=\"_parent\"><img src=\"https://colab.research.google.com/assets/colab-badge.svg\" alt=\"Open In Colab\"/></a>"
      ]
    },
    {
      "cell_type": "code",
      "execution_count": 1,
      "metadata": {
        "colab": {
          "base_uri": "https://localhost:8080/"
        },
        "id": "leqEM6CT0IMV",
        "outputId": "40df6ca4-e49e-4314-a62f-35d6b919fb8d"
      },
      "outputs": [
        {
          "output_type": "stream",
          "name": "stdout",
          "text": [
            "cat\n",
            "dog\n",
            "fish\n"
          ]
        }
      ],
      "source": [
        "#Creating array elements\n",
        "animals = [\"cat\", 'dog', 'fish']\n",
        "x = animals[0]\n",
        "print (x)\n",
        "y = animals [1]\n",
        "print(y)\n",
        "z = animals [2]\n",
        "print(z)"
      ]
    },
    {
      "cell_type": "code",
      "source": [
        "#Modifying array elements\n",
        "animals[0]='monkey'\n",
        "print(animals[0])\n",
        "print(\"The array of animals:\", animals)"
      ],
      "metadata": {
        "colab": {
          "base_uri": "https://localhost:8080/"
        },
        "id": "yrg_uajh0PTR",
        "outputId": "e8a84b3a-4f1d-414d-867d-72df49de3771"
      },
      "execution_count": 2,
      "outputs": [
        {
          "output_type": "stream",
          "name": "stdout",
          "text": [
            "monkey\n",
            "The array of animals: ['monkey', 'dog', 'fish']\n"
          ]
        }
      ]
    },
    {
      "cell_type": "code",
      "source": [
        "#Length of an array\n",
        "x = len(animals)\n",
        "print(x)"
      ],
      "metadata": {
        "colab": {
          "base_uri": "https://localhost:8080/"
        },
        "id": "plf7bXdk0R3j",
        "outputId": "f9dbe23b-7a97-4c2e-d67f-fe0d6b1944ef"
      },
      "execution_count": 3,
      "outputs": [
        {
          "output_type": "stream",
          "name": "stdout",
          "text": [
            "3\n"
          ]
        }
      ]
    },
    {
      "cell_type": "code",
      "source": [
        "#Deletion of elements in an array\n",
        "\n",
        "print(animals)"
      ],
      "metadata": {
        "colab": {
          "base_uri": "https://localhost:8080/"
        },
        "id": "QMCq32NM0T9j",
        "outputId": "e4b8684e-3a45-4adf-a0b6-7ab781eba36f"
      },
      "execution_count": 4,
      "outputs": [
        {
          "output_type": "stream",
          "name": "stdout",
          "text": [
            "['monkey', 'dog', 'fish']\n"
          ]
        }
      ]
    },
    {
      "cell_type": "code",
      "source": [
        "#append element in array\n",
        "animals = ['monkey','cat','dog', 'fish']\n",
        "animals.append(\"bird\")\n",
        "print(animals)"
      ],
      "metadata": {
        "colab": {
          "base_uri": "https://localhost:8080/"
        },
        "id": "B9A_OTqn0XYb",
        "outputId": "2017295f-1e37-4e8f-8a3f-322aefd58471"
      },
      "execution_count": 6,
      "outputs": [
        {
          "output_type": "stream",
          "name": "stdout",
          "text": [
            "['monkey', 'cat', 'dog', 'fish', 'bird']\n"
          ]
        }
      ]
    },
    {
      "cell_type": "code",
      "source": [
        "#insert an element in an array\n",
        "animals = ['monkey','cat','dog', 'fish']\n",
        "animals.insert(0, \"bird\")\n",
        "print(animals)\n",
        "animals.insert(2, \"lion\")  \n",
        "print(animals)          "
      ],
      "metadata": {
        "colab": {
          "base_uri": "https://localhost:8080/"
        },
        "id": "BaUKg0l40e78",
        "outputId": "60cb7f96-8b75-48c9-dfea-0737e69d4a8f"
      },
      "execution_count": 7,
      "outputs": [
        {
          "output_type": "stream",
          "name": "stdout",
          "text": [
            "['bird', 'monkey', 'cat', 'dog', 'fish']\n",
            "['bird', 'monkey', 'lion', 'cat', 'dog', 'fish']\n"
          ]
        }
      ]
    },
    {
      "cell_type": "code",
      "source": [
        "#delete dog from array elements\n",
        "print(animals)\n",
        "animals.remove(\"dog\")\n",
        "print(animals)"
      ],
      "metadata": {
        "colab": {
          "base_uri": "https://localhost:8080/"
        },
        "id": "ctlAZqXl0hU7",
        "outputId": "04962a35-473d-42c9-9de3-e192e00071da"
      },
      "execution_count": 8,
      "outputs": [
        {
          "output_type": "stream",
          "name": "stdout",
          "text": [
            "['bird', 'monkey', 'lion', 'cat', 'dog', 'fish']\n",
            "['bird', 'monkey', 'lion', 'cat', 'fish']\n"
          ]
        }
      ]
    }
  ]
}