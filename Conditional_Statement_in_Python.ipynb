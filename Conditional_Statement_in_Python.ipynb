{
  "nbformat": 4,
  "nbformat_minor": 0,
  "metadata": {
    "colab": {
      "provenance": [],
      "authorship_tag": "ABX9TyMWAIc7+PO0LHoghgwtlEcb",
      "include_colab_link": true
    },
    "kernelspec": {
      "name": "python3",
      "display_name": "Python 3"
    },
    "language_info": {
      "name": "python"
    }
  },
  "cells": [
    {
      "cell_type": "markdown",
      "metadata": {
        "id": "view-in-github",
        "colab_type": "text"
      },
      "source": [
        "<a href=\"https://colab.research.google.com/github/CovarLawrence/OOP-58003/blob/main/Conditional_Statement_in_Python.ipynb\" target=\"_parent\"><img src=\"https://colab.research.google.com/assets/colab-badge.svg\" alt=\"Open In Colab\"/></a>"
      ]
    },
    {
      "cell_type": "code",
      "execution_count": 1,
      "metadata": {
        "colab": {
          "base_uri": "https://localhost:8080/"
        },
        "id": "rrP2hkx3SZnS",
        "outputId": "0c653778-7ff2-443a-b9b7-12d8429b47f9"
      },
      "outputs": [
        {
          "output_type": "stream",
          "name": "stdout",
          "text": [
            "b is greater than a\n"
          ]
        }
      ],
      "source": [
        "a = 12\n",
        "b = 100\n",
        "if b>a:\n",
        "  print(\"b is greater than a\")"
      ]
    },
    {
      "cell_type": "code",
      "source": [
        "a = 12\n",
        "b = 12\n",
        "if b > a:\n",
        "  print(\"b is greater than a\")\n",
        "elif a==b:\n",
        "    print(\"a and b are equal\")"
      ],
      "metadata": {
        "colab": {
          "base_uri": "https://localhost:8080/"
        },
        "id": "NGbIMwTdSo6G",
        "outputId": "44db4db6-461a-4bc0-9ae0-92f44b86638e"
      },
      "execution_count": 3,
      "outputs": [
        {
          "output_type": "stream",
          "name": "stdout",
          "text": [
            "a and b are equal\n"
          ]
        }
      ]
    },
    {
      "cell_type": "code",
      "source": [
        "a = 200\n",
        "b = 33\n",
        "if b>a:\n",
        "  print(\"b is greater than a\")\n",
        "elif a==b:\n",
        "  print(\"a and b are equal\")\n",
        "else:\n",
        "  print(\"a is greater than b\")"
      ],
      "metadata": {
        "colab": {
          "base_uri": "https://localhost:8080/"
        },
        "id": "msRo1akzS9vC",
        "outputId": "fde2d0c4-d996-4b61-c8cd-a734b0019fde"
      },
      "execution_count": 4,
      "outputs": [
        {
          "output_type": "stream",
          "name": "stdout",
          "text": [
            "a is greater than b\n"
          ]
        }
      ]
    },
    {
      "cell_type": "code",
      "source": [
        "a = 2\n",
        "b = 330\n",
        "print(\"A\") if a > b else print(\"B\")"
      ],
      "metadata": {
        "colab": {
          "base_uri": "https://localhost:8080/"
        },
        "id": "fN2FNWclTPYi",
        "outputId": "c796af08-fbdc-46c6-ad41-3c07316884b7"
      },
      "execution_count": 5,
      "outputs": [
        {
          "output_type": "stream",
          "name": "stdout",
          "text": [
            "B\n"
          ]
        }
      ]
    },
    {
      "cell_type": "code",
      "source": [
        "a = 200\n",
        "b = 33\n",
        "c = 500\n",
        "if a > b and c > a:\n",
        "  print(\"Both conditions are True\")"
      ],
      "metadata": {
        "colab": {
          "base_uri": "https://localhost:8080/"
        },
        "id": "algP9_lvTZcD",
        "outputId": "57a75a12-41b1-43ab-ecb3-4bbc37709903"
      },
      "execution_count": 6,
      "outputs": [
        {
          "output_type": "stream",
          "name": "stdout",
          "text": [
            "Both conditions are True\n"
          ]
        }
      ]
    },
    {
      "cell_type": "code",
      "source": [
        "a = 200\n",
        "b = 33\n",
        "c = 500\n",
        "if a > b and c > a:\n",
        "  print(\"atleast one of the conditions is True\")"
      ],
      "metadata": {
        "colab": {
          "base_uri": "https://localhost:8080/"
        },
        "id": "c_SNKCDrTkSg",
        "outputId": "a37c653a-1a71-4cf1-a687-cf625361a051"
      },
      "execution_count": 7,
      "outputs": [
        {
          "output_type": "stream",
          "name": "stdout",
          "text": [
            "atleast one of the conditions is True\n"
          ]
        }
      ]
    },
    {
      "cell_type": "code",
      "source": [
        "x = 41\n",
        "\n",
        "if x > 10:\n",
        "  print(\"Above ten, \")\n",
        "  if x > 20:\n",
        "    print(\"and also above 20!\")\n",
        "  else:\n",
        "    print(\"but not above 20.\")"
      ],
      "metadata": {
        "colab": {
          "base_uri": "https://localhost:8080/"
        },
        "id": "zR_bKAapTq9I",
        "outputId": "9e7fb20a-a686-4a5e-cc93-d5d3838cf38b"
      },
      "execution_count": 10,
      "outputs": [
        {
          "output_type": "stream",
          "name": "stdout",
          "text": [
            "Above ten, \n",
            "and also above 20!\n"
          ]
        }
      ]
    },
    {
      "cell_type": "markdown",
      "source": [
        "EXAMPLE 1"
      ],
      "metadata": {
        "id": "d43AQK3DWZaK"
      }
    },
    {
      "cell_type": "code",
      "source": [
        "Num1 = int(input('Enter you age: '))\n",
        "\n",
        "if Num1 < 18:\n",
        "  print(\"Cannot vote due to age restriction\")\n",
        "  if Num1 > 18:\n",
        "    print(\"Able to Vote\")"
      ],
      "metadata": {
        "colab": {
          "base_uri": "https://localhost:8080/"
        },
        "id": "8g2Vzu4LT_an",
        "outputId": "167dd576-b414-4715-cfcb-12c2f8b3382f"
      },
      "execution_count": 23,
      "outputs": [
        {
          "output_type": "stream",
          "name": "stdout",
          "text": [
            "Enter you age: 10\n",
            "Cannot vote due to age restriction\n"
          ]
        }
      ]
    },
    {
      "cell_type": "markdown",
      "source": [
        "EXAMPLE 2 \n"
      ],
      "metadata": {
        "id": "F-6OiZKzWba9"
      }
    },
    {
      "cell_type": "code",
      "source": [
        "Num1 = float(input('Enter a Number: '))\n",
        "\n",
        "if Num1>= 0:\n",
        "   if Num1 == 0:\n",
        "       print(\"Zero\")\n",
        "   else:\n",
        "       print(\"Positive number\")\n",
        "else:\n",
        "   print(\"Negative number\")\n"
      ],
      "metadata": {
        "colab": {
          "base_uri": "https://localhost:8080/"
        },
        "id": "Aq50vugJWdMW",
        "outputId": "b2ec61b8-b293-40ca-9d3c-138f80123375"
      },
      "execution_count": 36,
      "outputs": [
        {
          "output_type": "stream",
          "name": "stdout",
          "text": [
            "Enter a Number: 1\n",
            "Positive number\n"
          ]
        }
      ]
    },
    {
      "cell_type": "code",
      "source": [
        "Num1 = int(input(\"Enter Your Grade: \"))\n",
        "\n",
        "if Num1 >= 70:\n",
        "  print(\"Passed\")\n",
        "elif Num1 <= 69:\n",
        "    print(\"Remedial\")\n",
        "elif Num1 <= 65:\n",
        "  print(\"Remedial\")\n",
        "else:\n",
        "  print(\"Failed\")"
      ],
      "metadata": {
        "colab": {
          "base_uri": "https://localhost:8080/"
        },
        "id": "ult-7prpYZOZ",
        "outputId": "7fc603ce-2a5c-4a33-b8ea-f61cf07b78a8"
      },
      "execution_count": 47,
      "outputs": [
        {
          "output_type": "stream",
          "name": "stdout",
          "text": [
            "Enter Your Grade: 64\n",
            "Remedial\n"
          ]
        }
      ]
    }
  ]
}