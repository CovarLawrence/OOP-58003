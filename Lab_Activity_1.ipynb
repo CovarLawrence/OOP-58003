{
  "nbformat": 4,
  "nbformat_minor": 0,
  "metadata": {
    "colab": {
      "provenance": [],
      "authorship_tag": "ABX9TyO1r+tuquYYzY74AIqLdw9U",
      "include_colab_link": true
    },
    "kernelspec": {
      "name": "python3",
      "display_name": "Python 3"
    },
    "language_info": {
      "name": "python"
    }
  },
  "cells": [
    {
      "cell_type": "markdown",
      "metadata": {
        "id": "view-in-github",
        "colab_type": "text"
      },
      "source": [
        "<a href=\"https://colab.research.google.com/github/CovarLawrence/OOP-58003/blob/main/Lab_Activity_1.ipynb\" target=\"_parent\"><img src=\"https://colab.research.google.com/assets/colab-badge.svg\" alt=\"Open In Colab\"/></a>"
      ]
    },
    {
      "cell_type": "code",
      "execution_count": 4,
      "metadata": {
        "colab": {
          "base_uri": "https://localhost:8080/"
        },
        "id": "1fUZeYAox2Pj",
        "outputId": "f3b60f66-2c18-4f5f-ab03-5e390ad2cf96"
      },
      "outputs": [
        {
          "output_type": "stream",
          "name": "stdout",
          "text": [
            "820\n",
            "Average: 20.5\n"
          ]
        }
      ],
      "source": [
        "#LawrenceCovar\n",
        "n = 40\n",
        "totalnumbers = n\n",
        "sum = 0\n",
        "average = 0\n",
        "while n>=0:\n",
        "  sum +=n\n",
        "  n-=1\n",
        "\n",
        "else:\n",
        "  print(sum)\n",
        "  \n",
        "average = sum/totalnumbers\n",
        "print(\"Average:\", average)"
      ]
    }
  ]
}