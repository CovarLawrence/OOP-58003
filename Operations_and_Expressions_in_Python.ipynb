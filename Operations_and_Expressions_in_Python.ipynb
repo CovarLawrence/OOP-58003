{
  "nbformat": 4,
  "nbformat_minor": 0,
  "metadata": {
    "colab": {
      "provenance": [],
      "authorship_tag": "ABX9TyNSlgf4dd+W4B+ihQIZrGBB",
      "include_colab_link": true
    },
    "kernelspec": {
      "name": "python3",
      "display_name": "Python 3"
    },
    "language_info": {
      "name": "python"
    }
  },
  "cells": [
    {
      "cell_type": "markdown",
      "metadata": {
        "id": "view-in-github",
        "colab_type": "text"
      },
      "source": [
        "<a href=\"https://colab.research.google.com/github/CovarLawrence/OOP-58003/blob/main/Operations_and_Expressions_in_Python.ipynb\" target=\"_parent\"><img src=\"https://colab.research.google.com/assets/colab-badge.svg\" alt=\"Open In Colab\"/></a>"
      ]
    },
    {
      "cell_type": "code",
      "execution_count": null,
      "metadata": {
        "colab": {
          "base_uri": "https://localhost:8080/"
        },
        "id": "U5lq8usklMCZ",
        "outputId": "1d99beb1-4ba1-4e0b-e5c5-08832bdfd852"
      },
      "outputs": [
        {
          "output_type": "stream",
          "name": "stdout",
          "text": [
            "15\n",
            "5\n",
            "50\n",
            "2.0\n",
            "3.3333333333333335\n",
            "3\n",
            "1\n"
          ]
        }
      ],
      "source": [
        "print (10+5)\n",
        "print (10-5)\n",
        "print (10*5)\n",
        "print (10/5)\n",
        "print (10/3)\n",
        "print (10//3)\n",
        "print (10%3)"
      ]
    },
    {
      "cell_type": "markdown",
      "source": [
        "Python Bitwise Operators"
      ],
      "metadata": {
        "id": "LGLR17r4m45A"
      }
    },
    {
      "cell_type": "code",
      "source": [
        "a = 60 \n",
        "b = 13\n",
        "\n",
        "print (a & b)\n",
        "print ( a | b)\n",
        "print (a << 1)\n",
        "print (a >> 1)"
      ],
      "metadata": {
        "colab": {
          "base_uri": "https://localhost:8080/"
        },
        "id": "qIH1W4AZmIQK",
        "outputId": "0ddf993d-127d-418a-9b92-0512e6e4cc50"
      },
      "execution_count": null,
      "outputs": [
        {
          "output_type": "stream",
          "name": "stdout",
          "text": [
            "12\n",
            "61\n",
            "120\n",
            "30\n"
          ]
        }
      ]
    },
    {
      "cell_type": "markdown",
      "source": [
        "Assignment Operator"
      ],
      "metadata": {
        "id": "YPHlCCSRq3sk"
      }
    },
    {
      "cell_type": "code",
      "source": [
        "x = 6 \n",
        "x+= 3 \n",
        "print(x)"
      ],
      "metadata": {
        "colab": {
          "base_uri": "https://localhost:8080/"
        },
        "id": "tvgw2Dbgq-hD",
        "outputId": "2ee5df91-5c2c-408c-d89d-e178a1292c50"
      },
      "execution_count": null,
      "outputs": [
        {
          "output_type": "stream",
          "name": "stdout",
          "text": [
            "9\n"
          ]
        }
      ]
    },
    {
      "cell_type": "markdown",
      "source": [
        "Logical Operator"
      ],
      "metadata": {
        "id": "HvKmUZ_pr8hf"
      }
    },
    {
      "cell_type": "code",
      "source": [
        "t = True\n",
        "s = False \n",
        "\n",
        "print(t and s)\n",
        "print(t or s)\n",
        "print(not (t or s))"
      ],
      "metadata": {
        "colab": {
          "base_uri": "https://localhost:8080/"
        },
        "id": "Ag4P2fcJr_HM",
        "outputId": "409c26d2-c463-458f-a806-e2b823cc72bd"
      },
      "execution_count": null,
      "outputs": [
        {
          "output_type": "stream",
          "name": "stdout",
          "text": [
            "False\n",
            "True\n",
            "False\n"
          ]
        }
      ]
    },
    {
      "cell_type": "markdown",
      "source": [
        "Identity Operator"
      ],
      "metadata": {
        "id": "P_zOnC30srYS"
      }
    },
    {
      "cell_type": "code",
      "source": [
        "#is is not\n",
        "t = True\n",
        "s = False\n",
        "\n",
        "print(t is t)\n",
        "print(t is s)\n",
        "print(t is not s)"
      ],
      "metadata": {
        "colab": {
          "base_uri": "https://localhost:8080/"
        },
        "id": "rshHDUJgstJI",
        "outputId": "99483306-aada-48cf-838f-543ae6d7aef8"
      },
      "execution_count": null,
      "outputs": [
        {
          "output_type": "stream",
          "name": "stdout",
          "text": [
            "True\n",
            "False\n",
            "True\n"
          ]
        }
      ]
    },
    {
      "cell_type": "markdown",
      "source": [
        "Application 1 create a a standard calculator (MDAS)"
      ],
      "metadata": {
        "id": "L28mH5NRtJTv"
      }
    },
    {
      "cell_type": "code",
      "source": [
        "Num = input(\"Enter any integer 1-10 \")\n",
        "Num1 = input()\n",
        "print(\"answer is: \" , Num + Num1 )"
      ],
      "metadata": {
        "colab": {
          "base_uri": "https://localhost:8080/"
        },
        "id": "QoC6tB8ktI6s",
        "outputId": "c0ee3468-7cdb-4e30-b594-29125d50994a"
      },
      "execution_count": null,
      "outputs": [
        {
          "output_type": "stream",
          "name": "stdout",
          "text": [
            "Enter any integer 1-10 1\n",
            "2\n",
            "answer is:  12\n"
          ]
        }
      ]
    },
    {
      "cell_type": "code",
      "source": [
        "Num1 = int(input('Enter First Number: '))\n",
        "Num2 = int(input('Enter Second Number: '))\n",
        "Op = input('Choose 1 operation + - * /',)\n",
        "\n",
        "if Op == '+':\n",
        "  print(\"Answer is: \",Num1 + Num2)\n",
        "elif Op == '-':\n",
        "  print(\"Answer is: \",Num1 - Num2)\n",
        "elif Op == '*':\n",
        "  print(\"Answer is: \",Num1 * Num2)\n",
        "elif Op == '/':\n",
        "  print(\"Answer is: \",Num1 / Num2)\n",
        "else:\n",
        "  print('Enter a valid operator, try again')"
      ],
      "metadata": {
        "colab": {
          "base_uri": "https://localhost:8080/"
        },
        "id": "hD1YaDYrwwy_",
        "outputId": "0bc01906-374f-4e9f-9e21-3b8de6110080"
      },
      "execution_count": null,
      "outputs": [
        {
          "output_type": "stream",
          "name": "stdout",
          "text": [
            "Enter First Number: 200\n",
            "Enter Second Number: 300\n",
            "Choose 1 operation + - * /+\n",
            "Answer is:  500\n"
          ]
        }
      ]
    }
  ]
}